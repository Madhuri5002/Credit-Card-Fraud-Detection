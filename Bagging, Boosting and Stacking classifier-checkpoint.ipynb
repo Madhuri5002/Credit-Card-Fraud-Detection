{
 "cells": [
  {
   "cell_type": "markdown",
   "id": "8477a2f5",
   "metadata": {},
   "source": [
    "Bagging classifier"
   ]
  },
  {
   "cell_type": "code",
   "execution_count": 16,
   "id": "efca540a",
   "metadata": {},
   "outputs": [
    {
     "name": "stdout",
     "output_type": "stream",
     "text": [
      "Bagging Classifier Accuracy: 0.93\n",
      "\n",
      "Classification Report:\n",
      "               precision    recall  f1-score   support\n",
      "\n",
      "           0       0.96      0.89      0.93       151\n",
      "           1       0.90      0.97      0.93       149\n",
      "\n",
      "    accuracy                           0.93       300\n",
      "   macro avg       0.93      0.93      0.93       300\n",
      "weighted avg       0.93      0.93      0.93       300\n",
      "\n"
     ]
    }
   ],
   "source": [
    "# Import necessary libraries\n",
    "from sklearn.ensemble import BaggingClassifier\n",
    "from sklearn.tree import DecisionTreeClassifier\n",
    "from sklearn.datasets import make_classification\n",
    "from sklearn.model_selection import train_test_split\n",
    "from sklearn.metrics import accuracy_score, classification_report\n",
    "\n",
    "# Step 1: Create synthetic classification dataset\n",
    "X, y = make_classification(n_samples=1000, n_features=10, n_informative=5,\n",
    "                           n_redundant=0, random_state=42)\n",
    "\n",
    "# Step 2: Split the dataset into training and test sets\n",
    "X_train, X_test, y_train, y_test = train_test_split(X, y,\n",
    "                                                    test_size=0.3,\n",
    "                                                    random_state=1)\n",
    "\n",
    "# Step 3: Create a base model (weak learner)\n",
    "base_model = DecisionTreeClassifier()\n",
    "\n",
    "# Step 4: Create the BaggingClassifier\n",
    "bagging_model = BaggingClassifier(estimator=base_model,\n",
    "                                  n_estimators=50,\n",
    "                               )\n",
    "\n",
    "# Step 5: Train the Bagging model\n",
    "bagging_model.fit(X_train, y_train)\n",
    "\n",
    "# Step 6: Predict on test data\n",
    "y_pred = bagging_model.predict(X_test)\n",
    "\n",
    "# Step 7: Evaluate the model\n",
    "print(\"Bagging Classifier Accuracy:\", accuracy_score(y_test, y_pred))\n",
    "print(\"\\nClassification Report:\\n\", classification_report(y_test, y_pred))"
   ]
  },
  {
   "cell_type": "markdown",
   "id": "f3c5e302",
   "metadata": {},
   "source": [
    "AdaBoost Classifier"
   ]
  },
  {
   "cell_type": "code",
   "execution_count": 17,
   "id": "34a09ea4",
   "metadata": {},
   "outputs": [
    {
     "name": "stdout",
     "output_type": "stream",
     "text": [
      "Accuracy: 0.8366666666666667\n",
      "\n",
      "Classification Report:\n",
      "               precision    recall  f1-score   support\n",
      "\n",
      "           0       0.87      0.79      0.83       151\n",
      "           1       0.81      0.88      0.84       149\n",
      "\n",
      "    accuracy                           0.84       300\n",
      "   macro avg       0.84      0.84      0.84       300\n",
      "weighted avg       0.84      0.84      0.84       300\n",
      "\n"
     ]
    }
   ],
   "source": [
    "from sklearn.ensemble import AdaBoostClassifier\n",
    "from sklearn.tree import DecisionTreeClassifier\n",
    "from sklearn.datasets import make_classification\n",
    "from sklearn.model_selection import train_test_split\n",
    "from sklearn.metrics import accuracy_score, classification_report\n",
    "\n",
    "# Step 1: Generate a synthetic classification dataset\n",
    "X, y = make_classification(n_samples=1000, n_features=10, n_informative=5,\n",
    "                           n_redundant=0, random_state=42)\n",
    "\n",
    "# Step 2: Split the dataset into training and testing\n",
    "X_train, X_test, y_train, y_test = train_test_split(X, y,\n",
    "                                                    test_size=0.3,\n",
    "                                                    random_state=1)\n",
    "\n",
    "# Step 3: Create a base model (weak learner) — Decision Stump (tree with max depth = 1)\n",
    "base_model = DecisionTreeClassifier(max_depth=1)\n",
    "\n",
    "# Step 4: Create the AdaBoost model using the base model\n",
    "boost_model = AdaBoostClassifier(estimator=base_model,\n",
    "                                 n_estimators=50,\n",
    "                                )\n",
    "\n",
    "# Step 5: Train the boosting model\n",
    "boost_model.fit(X_train, y_train)\n",
    "\n",
    "# Step 6: Predict on test data\n",
    "y_pred = boost_model.predict(X_test)\n",
    "\n",
    "# Step 7: Evaluate the model\n",
    "print(\"Accuracy:\", accuracy_score(y_test, y_pred))\n",
    "print(\"\\nClassification Report:\\n\", classification_report(y_test, y_pred))"
   ]
  },
  {
   "cell_type": "code",
   "execution_count": null,
   "id": "b048ea2a",
   "metadata": {},
   "outputs": [],
   "source": []
  },
  {
   "cell_type": "markdown",
   "id": "6ab3c549",
   "metadata": {},
   "source": [
    "Gradient Boosting with GradientBoostingClassifier"
   ]
  },
  {
   "cell_type": "code",
   "execution_count": 18,
   "id": "e35f42a8",
   "metadata": {},
   "outputs": [
    {
     "name": "stdout",
     "output_type": "stream",
     "text": [
      "Gradient Boosting Accuracy: 0.9033333333333333\n",
      "\n",
      "Classification Report:\n",
      "               precision    recall  f1-score   support\n",
      "\n",
      "           0       0.94      0.87      0.90       151\n",
      "           1       0.88      0.94      0.91       149\n",
      "\n",
      "    accuracy                           0.90       300\n",
      "   macro avg       0.91      0.90      0.90       300\n",
      "weighted avg       0.91      0.90      0.90       300\n",
      "\n"
     ]
    }
   ],
   "source": [
    "from sklearn.ensemble import GradientBoostingClassifier\n",
    "\n",
    "# Step 1: Create the Gradient Boosting model\n",
    "gb_model = GradientBoostingClassifier(n_estimators=100,\n",
    "                                      learning_rate=0.1,\n",
    "                                      max_depth=3,\n",
    "                                      random_state=1)\n",
    "\n",
    "# Step 2: Train the model\n",
    "gb_model.fit(X_train, y_train)\n",
    "\n",
    "# Step 3: Predict on test data\n",
    "y_pred_gb = gb_model.predict(X_test)\n",
    "\n",
    "# Step 4: Evaluate the model\n",
    "print(\"Gradient Boosting Accuracy:\", accuracy_score(y_test, y_pred_gb))\n",
    "print(\"\\nClassification Report:\\n\", classification_report(y_test, y_pred_gb))"
   ]
  },
  {
   "cell_type": "markdown",
   "id": "3ff20841",
   "metadata": {},
   "source": [
    "XGBoost with XGBClassifier"
   ]
  },
  {
   "cell_type": "code",
   "execution_count": 19,
   "id": "97098091",
   "metadata": {},
   "outputs": [
    {
     "name": "stdout",
     "output_type": "stream",
     "text": [
      "Requirement already satisfied: xgboost in c:\\users\\dell\\appdata\\local\\programs\\python\\python313\\lib\\site-packages (3.0.0)\n",
      "Requirement already satisfied: numpy in c:\\users\\dell\\appdata\\local\\programs\\python\\python313\\lib\\site-packages (from xgboost) (2.1.3)\n",
      "Requirement already satisfied: scipy in c:\\users\\dell\\appdata\\local\\programs\\python\\python313\\lib\\site-packages (from xgboost) (1.15.1)\n",
      "Note: you may need to restart the kernel to use updated packages.\n"
     ]
    },
    {
     "name": "stderr",
     "output_type": "stream",
     "text": [
      "\n",
      "[notice] A new release of pip is available: 25.0 -> 25.1.1\n",
      "[notice] To update, run: python.exe -m pip install --upgrade pip\n"
     ]
    }
   ],
   "source": [
    "pip install xgboost"
   ]
  },
  {
   "cell_type": "code",
   "execution_count": 20,
   "id": "7854f060",
   "metadata": {},
   "outputs": [
    {
     "name": "stdout",
     "output_type": "stream",
     "text": [
      "XGBoost Accuracy: 0.9233333333333333\n",
      "\n",
      "Classification Report:\n",
      "               precision    recall  f1-score   support\n",
      "\n",
      "           0       0.95      0.89      0.92       151\n",
      "           1       0.90      0.95      0.93       149\n",
      "\n",
      "    accuracy                           0.92       300\n",
      "   macro avg       0.92      0.92      0.92       300\n",
      "weighted avg       0.92      0.92      0.92       300\n",
      "\n"
     ]
    }
   ],
   "source": [
    "from xgboost import XGBClassifier\n",
    "\n",
    "# Step 1: Create the XGBoost model\n",
    "xgb_model = XGBClassifier(n_estimators=100)\n",
    "\n",
    "# Step 2: Train the model\n",
    "xgb_model.fit(X_train, y_train)\n",
    "\n",
    "# Step 3: Predict on test data\n",
    "y_pred_xgb = xgb_model.predict(X_test)\n",
    "\n",
    "# Step 4: Evaluate the model\n",
    "print(\"XGBoost Accuracy:\", accuracy_score(y_test, y_pred_xgb))\n",
    "print(\"\\nClassification Report:\\n\", classification_report(y_test, y_pred_xgb))"
   ]
  },
  {
   "cell_type": "markdown",
   "id": "0e7cd201",
   "metadata": {},
   "source": [
    "Stacking Classifier on Iris Dataset\n",
    "\n",
    "Base learners: KNeighborsClassifier, DecisionTreeClassifier\n",
    "\n",
    "Meta-model: LogisticRegression"
   ]
  },
  {
   "cell_type": "code",
   "execution_count": 24,
   "id": "d858ee04",
   "metadata": {},
   "outputs": [
    {
     "name": "stdout",
     "output_type": "stream",
     "text": [
      "Stacking Classifier Accuracy: 100.00%\n"
     ]
    }
   ],
   "source": [
    "from sklearn.datasets import load_iris\n",
    "from sklearn.model_selection import train_test_split\n",
    "from sklearn.ensemble import StackingClassifier\n",
    "from sklearn.linear_model import LogisticRegression\n",
    "from sklearn.neighbors import KNeighborsClassifier\n",
    "from sklearn.tree import DecisionTreeClassifier\n",
    "from sklearn.metrics import accuracy_score\n",
    "\n",
    "# Step 1: Load the dataset\n",
    "iris = load_iris()\n",
    "X, y = iris.data, iris.target\n",
    "\n",
    "# Step 2: Train-test split\n",
    "X_train, X_test, y_train, y_test = train_test_split(X, y, test_size=0.3, random_state=42)\n",
    "\n",
    "# Step 3: Define base models\n",
    "base_learners = [\n",
    "    ('knn', KNeighborsClassifier()),\n",
    "    ('dt', DecisionTreeClassifier())\n",
    "]\n",
    "\n",
    "# Step 4: Define meta-learner\n",
    "meta_learner = LogisticRegression()\n",
    "\n",
    "# Step 5: Create the Stacking Classifier\n",
    "stack_model = StackingClassifier(base_learners,meta_learner)\n",
    "\n",
    "# Step 6: Train the model\n",
    "stack_model.fit(X_train, y_train)\n",
    "\n",
    "# Step 7: Predict & evaluate\n",
    "y_pred = stack_model.predict(X_test)\n",
    "accuracy = accuracy_score(y_test, y_pred)\n",
    "\n",
    "print(\"Stacking Classifier Accuracy: {:.2f}%\".format(accuracy * 100))"
   ]
  },
  {
   "cell_type": "code",
   "execution_count": null,
   "id": "595cfe5e",
   "metadata": {},
   "outputs": [],
   "source": []
  },
  {
   "cell_type": "code",
   "execution_count": null,
   "id": "1adf2fce-1959-48ef-9add-a1e13b2ed576",
   "metadata": {},
   "outputs": [],
   "source": []
  },
  {
   "cell_type": "code",
   "execution_count": null,
   "id": "01354ce6-fdec-4800-bddf-173592f28a12",
   "metadata": {},
   "outputs": [],
   "source": []
  },
  {
   "cell_type": "code",
   "execution_count": null,
   "id": "c1e0c790-5f46-4b0b-a2b3-309ebf35b45f",
   "metadata": {},
   "outputs": [],
   "source": []
  }
 ],
 "metadata": {
  "kernelspec": {
   "display_name": "Python 3 (ipykernel)",
   "language": "python",
   "name": "python3"
  },
  "language_info": {
   "codemirror_mode": {
    "name": "ipython",
    "version": 3
   },
   "file_extension": ".py",
   "mimetype": "text/x-python",
   "name": "python",
   "nbconvert_exporter": "python",
   "pygments_lexer": "ipython3",
   "version": "3.13.0"
  }
 },
 "nbformat": 4,
 "nbformat_minor": 5
}
